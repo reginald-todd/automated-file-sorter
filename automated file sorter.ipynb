{
 "cells": [
  {
   "cell_type": "code",
   "execution_count": 1,
   "id": "b3467ecd",
   "metadata": {},
   "outputs": [],
   "source": [
    "import os, shutil"
   ]
  },
  {
   "cell_type": "code",
   "execution_count": 17,
   "id": "425988b5",
   "metadata": {},
   "outputs": [],
   "source": [
    "path = r'C:/Users/Darcy/OneDrive/Documents/0 SGH/self learning/learning python/automated file sorter/timesheets/'"
   ]
  },
  {
   "cell_type": "code",
   "execution_count": 23,
   "id": "2b2995f7",
   "metadata": {},
   "outputs": [],
   "source": [
    "file_names = os.listdir(path)"
   ]
  },
  {
   "cell_type": "code",
   "execution_count": 22,
   "id": "8783b532",
   "metadata": {},
   "outputs": [
    {
     "name": "stdout",
     "output_type": "stream",
     "text": [
      "C:/Users/Darcy/OneDrive/Documents/0 SGH/self learning/learning python/automated file sorter/timesheets/pdf files\n",
      "C:/Users/Darcy/OneDrive/Documents/0 SGH/self learning/learning python/automated file sorter/timesheets/excel files\n"
     ]
    }
   ],
   "source": [
    "folder_names = ['pdf files', 'excel files']\n",
    "\n",
    "for loop in range(0,2):\n",
    "    if not os.path.exists(path + folder_names[loop]):\n",
    "        #print(path + folder_names[loop])\n",
    "        os.makedirs(path + folder_names[loop])"
   ]
  },
  {
   "cell_type": "code",
   "execution_count": 26,
   "id": "f080161b",
   "metadata": {},
   "outputs": [],
   "source": [
    "for file in file_names:\n",
    "    if '.xlsx' in file and not os.path.exists(path + 'excel files/' + file):\n",
    "        shutil.move(path + file, path + 'excel files/' + file)"
   ]
  },
  {
   "cell_type": "code",
   "execution_count": 27,
   "id": "7ad8adee",
   "metadata": {},
   "outputs": [],
   "source": [
    "for file in file_names:\n",
    "    if '.pdf' in file and not os.path.exists(path + 'pdf files/' + file):\n",
    "        shutil.move(path + file, path + 'pdf files/' + file)"
   ]
  }
 ],
 "metadata": {
  "kernelspec": {
   "display_name": "Python 3 (ipykernel)",
   "language": "python",
   "name": "python3"
  },
  "language_info": {
   "codemirror_mode": {
    "name": "ipython",
    "version": 3
   },
   "file_extension": ".py",
   "mimetype": "text/x-python",
   "name": "python",
   "nbconvert_exporter": "python",
   "pygments_lexer": "ipython3",
   "version": "3.11.4"
  }
 },
 "nbformat": 4,
 "nbformat_minor": 5
}
